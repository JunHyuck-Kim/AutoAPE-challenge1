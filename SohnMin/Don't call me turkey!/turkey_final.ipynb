{
 "cells": [
  {
   "cell_type": "code",
   "execution_count": 1,
   "metadata": {
    "scrolled": false
   },
   "outputs": [
    {
     "name": "stdout",
     "output_type": "stream",
     "text": [
      "<class 'pandas.core.frame.DataFrame'>\n",
      "RangeIndex: 1195 entries, 0 to 1194\n",
      "Data columns (total 5 columns):\n",
      " #   Column                           Non-Null Count  Dtype \n",
      "---  ------                           --------------  ----- \n",
      " 0   audio_embedding                  1195 non-null   object\n",
      " 1   is_turkey                        1195 non-null   int64 \n",
      " 2   vid_id                           1195 non-null   object\n",
      " 3   end_time_seconds_youtube_clip    1195 non-null   int64 \n",
      " 4   start_time_seconds_youtube_clip  1195 non-null   int64 \n",
      "dtypes: int64(3), object(2)\n",
      "memory usage: 46.8+ KB\n",
      "<class 'pandas.core.frame.DataFrame'>\n",
      "RangeIndex: 1196 entries, 0 to 1195\n",
      "Data columns (total 4 columns):\n",
      " #   Column                           Non-Null Count  Dtype \n",
      "---  ------                           --------------  ----- \n",
      " 0   audio_embedding                  1196 non-null   object\n",
      " 1   vid_id                           1196 non-null   object\n",
      " 2   end_time_seconds_youtube_clip    1196 non-null   int64 \n",
      " 3   start_time_seconds_youtube_clip  1196 non-null   int64 \n",
      "dtypes: int64(2), object(2)\n",
      "memory usage: 37.5+ KB\n",
      "<class 'pandas.core.frame.DataFrame'>\n",
      "RangeIndex: 1196 entries, 0 to 1195\n",
      "Data columns (total 2 columns):\n",
      " #   Column     Non-Null Count  Dtype \n",
      "---  ------     --------------  ----- \n",
      " 0   vid_id     1196 non-null   object\n",
      " 1   is_turkey  1196 non-null   int64 \n",
      "dtypes: int64(1), object(1)\n",
      "memory usage: 18.8+ KB\n"
     ]
    }
   ],
   "source": [
    "import tensorflow as tf\n",
    "import numpy as np\n",
    "import pandas as pd\n",
    "\n",
    "\n",
    "train = pd.read_json('D:/kaggle_data/dont-call-me-turkey/train.json')\n",
    "test = pd.read_json('D:/kaggle_data/dont-call-me-turkey/test.json')\n",
    "sample_submission = pd.read_csv('D:/kaggle_data/dont-call-me-turkey/sample_submission.csv')\n",
    "\n",
    "\n",
    "train.info()\n",
    "test.info()\n",
    "sample_submission.info()"
   ]
  },
  {
   "cell_type": "code",
   "execution_count": 2,
   "metadata": {},
   "outputs": [
    {
     "name": "stdout",
     "output_type": "stream",
     "text": [
      "[name: \"/device:CPU:0\"\n",
      "device_type: \"CPU\"\n",
      "memory_limit: 268435456\n",
      "locality {\n",
      "}\n",
      "incarnation: 12733767209196716480\n",
      ", name: \"/device:XLA_CPU:0\"\n",
      "device_type: \"XLA_CPU\"\n",
      "memory_limit: 17179869184\n",
      "locality {\n",
      "}\n",
      "incarnation: 17301057137865033811\n",
      "physical_device_desc: \"device: XLA_CPU device\"\n",
      ", name: \"/device:GPU:0\"\n",
      "device_type: \"GPU\"\n",
      "memory_limit: 4928812339\n",
      "locality {\n",
      "  bus_id: 1\n",
      "  links {\n",
      "  }\n",
      "}\n",
      "incarnation: 14146925948131669070\n",
      "physical_device_desc: \"device: 0, name: GeForce GTX 1060 6GB, pci bus id: 0000:01:00.0, compute capability: 6.1\"\n",
      ", name: \"/device:XLA_GPU:0\"\n",
      "device_type: \"XLA_GPU\"\n",
      "memory_limit: 17179869184\n",
      "locality {\n",
      "}\n",
      "incarnation: 9552504082486023639\n",
      "physical_device_desc: \"device: XLA_GPU device\"\n",
      "]\n"
     ]
    }
   ],
   "source": [
    "from tensorflow.python.client import device_lib\n",
    "print(device_lib.list_local_devices())"
   ]
  },
  {
   "cell_type": "code",
   "execution_count": 3,
   "metadata": {},
   "outputs": [
    {
     "name": "stdout",
     "output_type": "stream",
     "text": [
      "10\n"
     ]
    }
   ],
   "source": [
    "print(len(train['audio_embedding'][0]))"
   ]
  },
  {
   "cell_type": "code",
   "execution_count": 4,
   "metadata": {},
   "outputs": [],
   "source": [
    "def length(x):\n",
    "    return len(x['audio_embedding'])"
   ]
  },
  {
   "cell_type": "code",
   "execution_count": 5,
   "metadata": {},
   "outputs": [],
   "source": [
    "def length2(x):\n",
    "    sum=0\n",
    "    for i in range(0, len(x['audio_embedding'])):\n",
    "        sum=sum+len(x['audio_embedding'][i])\n",
    "    return sum/len(x['audio_embedding'])"
   ]
  },
  {
   "cell_type": "code",
   "execution_count": 6,
   "metadata": {},
   "outputs": [],
   "source": [
    "train['audio_len2']=train.apply(length2,axis=1)"
   ]
  },
  {
   "cell_type": "code",
   "execution_count": 7,
   "metadata": {
    "scrolled": true
   },
   "outputs": [],
   "source": [
    "train['audio_len']=train.apply(length,axis=1)"
   ]
  },
  {
   "cell_type": "code",
   "execution_count": 8,
   "metadata": {},
   "outputs": [
    {
     "data": {
      "text/html": [
       "<div>\n",
       "<style scoped>\n",
       "    .dataframe tbody tr th:only-of-type {\n",
       "        vertical-align: middle;\n",
       "    }\n",
       "\n",
       "    .dataframe tbody tr th {\n",
       "        vertical-align: top;\n",
       "    }\n",
       "\n",
       "    .dataframe thead th {\n",
       "        text-align: right;\n",
       "    }\n",
       "</style>\n",
       "<table border=\"1\" class=\"dataframe\">\n",
       "  <thead>\n",
       "    <tr style=\"text-align: right;\">\n",
       "      <th></th>\n",
       "      <th>is_turkey</th>\n",
       "      <th>end_time_seconds_youtube_clip</th>\n",
       "      <th>start_time_seconds_youtube_clip</th>\n",
       "      <th>audio_len2</th>\n",
       "      <th>audio_len</th>\n",
       "    </tr>\n",
       "  </thead>\n",
       "  <tbody>\n",
       "    <tr>\n",
       "      <th>count</th>\n",
       "      <td>1195.000000</td>\n",
       "      <td>1195.000000</td>\n",
       "      <td>1195.000000</td>\n",
       "      <td>1195.0</td>\n",
       "      <td>1195.000000</td>\n",
       "    </tr>\n",
       "    <tr>\n",
       "      <th>mean</th>\n",
       "      <td>0.410879</td>\n",
       "      <td>87.013389</td>\n",
       "      <td>77.085356</td>\n",
       "      <td>128.0</td>\n",
       "      <td>9.870293</td>\n",
       "    </tr>\n",
       "    <tr>\n",
       "      <th>std</th>\n",
       "      <td>0.492199</td>\n",
       "      <td>107.750860</td>\n",
       "      <td>107.697523</td>\n",
       "      <td>0.0</td>\n",
       "      <td>0.730351</td>\n",
       "    </tr>\n",
       "    <tr>\n",
       "      <th>min</th>\n",
       "      <td>0.000000</td>\n",
       "      <td>2.000000</td>\n",
       "      <td>0.000000</td>\n",
       "      <td>128.0</td>\n",
       "      <td>2.000000</td>\n",
       "    </tr>\n",
       "    <tr>\n",
       "      <th>25%</th>\n",
       "      <td>0.000000</td>\n",
       "      <td>40.000000</td>\n",
       "      <td>30.000000</td>\n",
       "      <td>128.0</td>\n",
       "      <td>10.000000</td>\n",
       "    </tr>\n",
       "    <tr>\n",
       "      <th>50%</th>\n",
       "      <td>0.000000</td>\n",
       "      <td>40.000000</td>\n",
       "      <td>30.000000</td>\n",
       "      <td>128.0</td>\n",
       "      <td>10.000000</td>\n",
       "    </tr>\n",
       "    <tr>\n",
       "      <th>75%</th>\n",
       "      <td>1.000000</td>\n",
       "      <td>90.000000</td>\n",
       "      <td>80.000000</td>\n",
       "      <td>128.0</td>\n",
       "      <td>10.000000</td>\n",
       "    </tr>\n",
       "    <tr>\n",
       "      <th>max</th>\n",
       "      <td>1.000000</td>\n",
       "      <td>600.000000</td>\n",
       "      <td>590.000000</td>\n",
       "      <td>128.0</td>\n",
       "      <td>10.000000</td>\n",
       "    </tr>\n",
       "  </tbody>\n",
       "</table>\n",
       "</div>"
      ],
      "text/plain": [
       "         is_turkey  end_time_seconds_youtube_clip  \\\n",
       "count  1195.000000                    1195.000000   \n",
       "mean      0.410879                      87.013389   \n",
       "std       0.492199                     107.750860   \n",
       "min       0.000000                       2.000000   \n",
       "25%       0.000000                      40.000000   \n",
       "50%       0.000000                      40.000000   \n",
       "75%       1.000000                      90.000000   \n",
       "max       1.000000                     600.000000   \n",
       "\n",
       "       start_time_seconds_youtube_clip  audio_len2    audio_len  \n",
       "count                      1195.000000      1195.0  1195.000000  \n",
       "mean                         77.085356       128.0     9.870293  \n",
       "std                         107.697523         0.0     0.730351  \n",
       "min                           0.000000       128.0     2.000000  \n",
       "25%                          30.000000       128.0    10.000000  \n",
       "50%                          30.000000       128.0    10.000000  \n",
       "75%                          80.000000       128.0    10.000000  \n",
       "max                         590.000000       128.0    10.000000  "
      ]
     },
     "execution_count": 8,
     "metadata": {},
     "output_type": "execute_result"
    }
   ],
   "source": [
    "#audio의 길이가 대부분 10\n",
    "train.describe()"
   ]
  },
  {
   "cell_type": "code",
   "execution_count": 9,
   "metadata": {},
   "outputs": [],
   "source": [
    "from keras.preprocessing.sequence import pad_sequences"
   ]
  },
  {
   "cell_type": "code",
   "execution_count": 10,
   "metadata": {},
   "outputs": [],
   "source": [
    "x_val =train['audio_embedding']\n",
    "y_val = train['is_turkey']\n",
    "x_train =train['audio_embedding']\n",
    "y_train = train['is_turkey']"
   ]
  },
  {
   "cell_type": "code",
   "execution_count": 11,
   "metadata": {},
   "outputs": [],
   "source": [
    "x_train = pad_sequences(x_train, maxlen=10)\n",
    "x_val = pad_sequences(x_val, maxlen=10)\n",
    "\n",
    "\n",
    "test_data = test['audio_embedding'].tolist()\n",
    "x_test = pad_sequences(test_data, maxlen=10)"
   ]
  },
  {
   "cell_type": "code",
   "execution_count": 12,
   "metadata": {},
   "outputs": [],
   "source": [
    "from keras.models import Sequential\n",
    "from tensorflow import keras\n",
    "from keras.layers import BatchNormalization,Bidirectional,LSTM,Activation, Dense ,GlobalMaxPool1D, Dropout"
   ]
  },
  {
   "cell_type": "code",
   "execution_count": 13,
   "metadata": {},
   "outputs": [
    {
     "name": "stdout",
     "output_type": "stream",
     "text": [
      "WARNING:tensorflow:Layer lstm will not use cuDNN kernel since it doesn't meet the cuDNN kernel criteria. It will use generic GPU kernel as fallback when running on GPU\n",
      "WARNING:tensorflow:Layer lstm will not use cuDNN kernel since it doesn't meet the cuDNN kernel criteria. It will use generic GPU kernel as fallback when running on GPU\n",
      "WARNING:tensorflow:Layer lstm will not use cuDNN kernel since it doesn't meet the cuDNN kernel criteria. It will use generic GPU kernel as fallback when running on GPU\n",
      "WARNING:tensorflow:Layer lstm_1 will not use cuDNN kernel since it doesn't meet the cuDNN kernel criteria. It will use generic GPU kernel as fallback when running on GPU\n",
      "WARNING:tensorflow:Layer lstm_1 will not use cuDNN kernel since it doesn't meet the cuDNN kernel criteria. It will use generic GPU kernel as fallback when running on GPU\n",
      "WARNING:tensorflow:Layer lstm_1 will not use cuDNN kernel since it doesn't meet the cuDNN kernel criteria. It will use generic GPU kernel as fallback when running on GPU\n",
      "WARNING:tensorflow:Layer lstm_2 will not use cuDNN kernel since it doesn't meet the cuDNN kernel criteria. It will use generic GPU kernel as fallback when running on GPU\n",
      "WARNING:tensorflow:Layer lstm_2 will not use cuDNN kernel since it doesn't meet the cuDNN kernel criteria. It will use generic GPU kernel as fallback when running on GPU\n",
      "WARNING:tensorflow:Layer lstm_2 will not use cuDNN kernel since it doesn't meet the cuDNN kernel criteria. It will use generic GPU kernel as fallback when running on GPU\n",
      "Model: \"sequential\"\n",
      "_________________________________________________________________\n",
      "Layer (type)                 Output Shape              Param #   \n",
      "=================================================================\n",
      "batch_normalization (BatchNo (None, 10, 128)           512       \n",
      "_________________________________________________________________\n",
      "bidirectional (Bidirectional (None, 10, 256)           263168    \n",
      "_________________________________________________________________\n",
      "bidirectional_1 (Bidirection (None, 10, 256)           394240    \n",
      "_________________________________________________________________\n",
      "bidirectional_2 (Bidirection (None, 256)               394240    \n",
      "_________________________________________________________________\n",
      "dense (Dense)                (None, 1)                 257       \n",
      "=================================================================\n",
      "Total params: 1,052,417\n",
      "Trainable params: 1,052,161\n",
      "Non-trainable params: 256\n",
      "_________________________________________________________________\n",
      "Epoch 1/70\n",
      "4/4 [==============================] - 2s 473ms/step - loss: 0.5839 - accuracy: 0.7841 - val_loss: 8.8705 - val_accuracy: 0.7799\n",
      "Epoch 2/70\n",
      "4/4 [==============================] - 1s 194ms/step - loss: 0.2983 - accuracy: 0.9347 - val_loss: 44.8677 - val_accuracy: 0.8527\n",
      "Epoch 3/70\n",
      "4/4 [==============================] - 1s 196ms/step - loss: 0.1730 - accuracy: 0.9414 - val_loss: 9.3158 - val_accuracy: 0.8611\n",
      "Epoch 4/70\n",
      "4/4 [==============================] - 1s 194ms/step - loss: 0.1262 - accuracy: 0.9565 - val_loss: 1.4457 - val_accuracy: 0.9305\n",
      "Epoch 5/70\n",
      "4/4 [==============================] - 1s 197ms/step - loss: 0.1305 - accuracy: 0.9607 - val_loss: 1.5614 - val_accuracy: 0.9347\n",
      "Epoch 6/70\n",
      "4/4 [==============================] - 1s 195ms/step - loss: 0.1093 - accuracy: 0.9607 - val_loss: 4.1750 - val_accuracy: 0.9188\n",
      "Epoch 7/70\n",
      "4/4 [==============================] - 1s 198ms/step - loss: 0.0895 - accuracy: 0.9657 - val_loss: 4.7317 - val_accuracy: 0.9515\n",
      "Epoch 8/70\n",
      "4/4 [==============================] - 1s 200ms/step - loss: 0.0761 - accuracy: 0.9741 - val_loss: 4.3085 - val_accuracy: 0.9640\n",
      "Epoch 9/70\n",
      "4/4 [==============================] - 1s 192ms/step - loss: 0.0645 - accuracy: 0.9741 - val_loss: 13.5681 - val_accuracy: 0.9381\n",
      "Epoch 10/70\n",
      "4/4 [==============================] - 1s 192ms/step - loss: 0.0520 - accuracy: 0.9782 - val_loss: 21.3646 - val_accuracy: 0.9096\n",
      "Epoch 11/70\n",
      "4/4 [==============================] - 1s 195ms/step - loss: 0.0419 - accuracy: 0.9841 - val_loss: 5.7278 - val_accuracy: 0.9590\n",
      "Epoch 12/70\n",
      "4/4 [==============================] - 1s 192ms/step - loss: 0.0405 - accuracy: 0.9866 - val_loss: 16.9432 - val_accuracy: 0.9197\n",
      "Epoch 13/70\n",
      "4/4 [==============================] - 1s 199ms/step - loss: 0.0260 - accuracy: 0.9891 - val_loss: 69.3992 - val_accuracy: 0.8527\n",
      "Epoch 14/70\n",
      "4/4 [==============================] - 1s 199ms/step - loss: 0.0197 - accuracy: 0.9933 - val_loss: 47.7065 - val_accuracy: 0.9063\n",
      "Epoch 15/70\n",
      "4/4 [==============================] - 1s 198ms/step - loss: 0.0179 - accuracy: 0.9933 - val_loss: 193.4154 - val_accuracy: 0.8452\n",
      "Epoch 16/70\n",
      "4/4 [==============================] - 1s 199ms/step - loss: 0.0195 - accuracy: 0.9941 - val_loss: 133.0322 - val_accuracy: 0.8770\n",
      "Epoch 17/70\n",
      "4/4 [==============================] - 1s 194ms/step - loss: 0.0378 - accuracy: 0.9824 - val_loss: 99.0808 - val_accuracy: 0.8770\n",
      "Epoch 18/70\n",
      "4/4 [==============================] - 1s 197ms/step - loss: 0.0513 - accuracy: 0.9866 - val_loss: 154.0179 - val_accuracy: 0.8234\n",
      "Epoch 19/70\n",
      "4/4 [==============================] - 1s 207ms/step - loss: 0.0118 - accuracy: 0.9958 - val_loss: 13.7569 - val_accuracy: 0.9264\n",
      "Epoch 20/70\n",
      "4/4 [==============================] - 1s 197ms/step - loss: 0.0485 - accuracy: 0.9891 - val_loss: 3.5807 - val_accuracy: 0.9573\n",
      "Epoch 21/70\n",
      "4/4 [==============================] - 1s 201ms/step - loss: 0.0161 - accuracy: 0.9975 - val_loss: 3.8713 - val_accuracy: 0.9456\n",
      "Epoch 22/70\n",
      "4/4 [==============================] - 1s 201ms/step - loss: 0.0112 - accuracy: 1.0000 - val_loss: 4.2169 - val_accuracy: 0.9389\n",
      "Epoch 23/70\n",
      "4/4 [==============================] - 1s 208ms/step - loss: 0.0133 - accuracy: 0.9967 - val_loss: 3.1014 - val_accuracy: 0.9556\n",
      "Epoch 24/70\n",
      "4/4 [==============================] - 1s 197ms/step - loss: 0.0062 - accuracy: 1.0000 - val_loss: 2.3507 - val_accuracy: 0.9657\n",
      "Epoch 25/70\n",
      "4/4 [==============================] - 1s 192ms/step - loss: 0.0032 - accuracy: 1.0000 - val_loss: 1.6654 - val_accuracy: 0.9724\n",
      "Epoch 26/70\n",
      "4/4 [==============================] - 1s 194ms/step - loss: 0.0010 - accuracy: 1.0000 - val_loss: 1.5182 - val_accuracy: 0.9782\n",
      "Epoch 27/70\n",
      "4/4 [==============================] - 1s 195ms/step - loss: 0.0011 - accuracy: 1.0000 - val_loss: 2.2101 - val_accuracy: 0.9749\n",
      "Epoch 28/70\n",
      "4/4 [==============================] - 1s 194ms/step - loss: 1.8478e-04 - accuracy: 1.0000 - val_loss: 2.8661 - val_accuracy: 0.9707\n",
      "Epoch 29/70\n",
      "4/4 [==============================] - 1s 195ms/step - loss: 1.5675e-05 - accuracy: 1.0000 - val_loss: 3.2230 - val_accuracy: 0.9724\n",
      "Epoch 30/70\n",
      "4/4 [==============================] - 1s 194ms/step - loss: 6.5565e-06 - accuracy: 1.0000 - val_loss: 3.3690 - val_accuracy: 0.9715\n",
      "Epoch 31/70\n",
      "4/4 [==============================] - 1s 194ms/step - loss: 3.4463e-06 - accuracy: 1.0000 - val_loss: 3.2585 - val_accuracy: 0.9707\n",
      "Epoch 32/70\n",
      "4/4 [==============================] - 1s 193ms/step - loss: 1.5984e-06 - accuracy: 1.0000 - val_loss: 2.9836 - val_accuracy: 0.9732\n",
      "Epoch 33/70\n",
      "4/4 [==============================] - 1s 195ms/step - loss: 0.0018 - accuracy: 0.9992 - val_loss: 0.4889 - val_accuracy: 0.9933\n",
      "Epoch 34/70\n",
      "4/4 [==============================] - 1s 192ms/step - loss: 0.0390 - accuracy: 0.9958 - val_loss: 0.4427 - val_accuracy: 0.9900\n",
      "Epoch 35/70\n",
      "4/4 [==============================] - 1s 202ms/step - loss: 0.0476 - accuracy: 0.9992 - val_loss: 0.4550 - val_accuracy: 0.9858\n",
      "Epoch 36/70\n",
      "4/4 [==============================] - 1s 192ms/step - loss: 0.0025 - accuracy: 0.9992 - val_loss: 0.7698 - val_accuracy: 0.9690\n",
      "Epoch 37/70\n",
      "4/4 [==============================] - 1s 200ms/step - loss: 0.0043 - accuracy: 0.9992 - val_loss: 0.6256 - val_accuracy: 0.9674\n",
      "Epoch 38/70\n",
      "4/4 [==============================] - 1s 207ms/step - loss: 0.0058 - accuracy: 0.9975 - val_loss: 0.3598 - val_accuracy: 0.9749\n",
      "Epoch 39/70\n",
      "4/4 [==============================] - 1s 197ms/step - loss: 0.0050 - accuracy: 0.9992 - val_loss: 0.2197 - val_accuracy: 0.9791\n",
      "Epoch 40/70\n",
      "4/4 [==============================] - 1s 194ms/step - loss: 0.0064 - accuracy: 0.9992 - val_loss: 0.1820 - val_accuracy: 0.9833\n"
     ]
    },
    {
     "name": "stdout",
     "output_type": "stream",
     "text": [
      "Epoch 41/70\n",
      "4/4 [==============================] - 1s 203ms/step - loss: 0.0024 - accuracy: 1.0000 - val_loss: 0.2964 - val_accuracy: 0.9757\n",
      "Epoch 42/70\n",
      "4/4 [==============================] - 1s 204ms/step - loss: 0.0018 - accuracy: 1.0000 - val_loss: 0.4544 - val_accuracy: 0.9724\n",
      "Epoch 43/70\n",
      "4/4 [==============================] - 1s 194ms/step - loss: 0.0031 - accuracy: 0.9992 - val_loss: 0.4878 - val_accuracy: 0.9774\n",
      "Epoch 44/70\n",
      "4/4 [==============================] - 1s 200ms/step - loss: 5.5801e-04 - accuracy: 1.0000 - val_loss: 0.2931 - val_accuracy: 0.9849\n",
      "Epoch 45/70\n",
      "4/4 [==============================] - 1s 196ms/step - loss: 3.9625e-04 - accuracy: 1.0000 - val_loss: 0.2190 - val_accuracy: 0.9900\n",
      "Epoch 46/70\n",
      "4/4 [==============================] - 1s 197ms/step - loss: 4.2008e-04 - accuracy: 1.0000 - val_loss: 0.2155 - val_accuracy: 0.9916\n",
      "Epoch 47/70\n",
      "4/4 [==============================] - 1s 193ms/step - loss: 1.0929e-04 - accuracy: 1.0000 - val_loss: 0.2591 - val_accuracy: 0.9916\n",
      "Epoch 48/70\n",
      "4/4 [==============================] - 1s 193ms/step - loss: 4.2345e-05 - accuracy: 1.0000 - val_loss: 0.3080 - val_accuracy: 0.9908\n",
      "Epoch 49/70\n",
      "4/4 [==============================] - 1s 192ms/step - loss: 5.0024e-05 - accuracy: 1.0000 - val_loss: 0.3340 - val_accuracy: 0.9900\n",
      "Epoch 50/70\n",
      "4/4 [==============================] - 1s 201ms/step - loss: 3.0895e-05 - accuracy: 1.0000 - val_loss: 0.3531 - val_accuracy: 0.9900\n",
      "Epoch 51/70\n",
      "4/4 [==============================] - 1s 192ms/step - loss: 3.5980e-05 - accuracy: 1.0000 - val_loss: 0.3680 - val_accuracy: 0.9908\n",
      "Epoch 52/70\n",
      "4/4 [==============================] - 1s 203ms/step - loss: 2.9272e-05 - accuracy: 1.0000 - val_loss: 0.3522 - val_accuracy: 0.9908\n",
      "Epoch 53/70\n",
      "4/4 [==============================] - 1s 198ms/step - loss: 8.3624e-06 - accuracy: 1.0000 - val_loss: 0.3106 - val_accuracy: 0.9908\n",
      "Epoch 54/70\n",
      "4/4 [==============================] - 1s 195ms/step - loss: 4.0986e-05 - accuracy: 1.0000 - val_loss: 0.2530 - val_accuracy: 0.9908\n",
      "Epoch 55/70\n",
      "4/4 [==============================] - 1s 196ms/step - loss: 6.1747e-06 - accuracy: 1.0000 - val_loss: 0.1963 - val_accuracy: 0.9941\n",
      "Epoch 56/70\n",
      "4/4 [==============================] - 1s 197ms/step - loss: 1.3895e-06 - accuracy: 1.0000 - val_loss: 0.1504 - val_accuracy: 0.9967\n",
      "Epoch 57/70\n",
      "4/4 [==============================] - 1s 194ms/step - loss: 1.1773e-06 - accuracy: 1.0000 - val_loss: 0.1146 - val_accuracy: 0.9967\n",
      "Epoch 58/70\n",
      "4/4 [==============================] - 1s 191ms/step - loss: 9.3882e-07 - accuracy: 1.0000 - val_loss: 0.0863 - val_accuracy: 0.9975\n",
      "Epoch 59/70\n",
      "4/4 [==============================] - 1s 196ms/step - loss: 1.4889e-06 - accuracy: 1.0000 - val_loss: 0.0641 - val_accuracy: 0.9983\n",
      "Epoch 60/70\n",
      "4/4 [==============================] - 1s 191ms/step - loss: 1.0335e-06 - accuracy: 1.0000 - val_loss: 0.0475 - val_accuracy: 0.9983\n",
      "Epoch 61/70\n",
      "4/4 [==============================] - 1s 193ms/step - loss: 4.1295e-06 - accuracy: 1.0000 - val_loss: 0.0346 - val_accuracy: 0.9983\n",
      "Epoch 62/70\n",
      "4/4 [==============================] - 1s 193ms/step - loss: 9.9547e-07 - accuracy: 1.0000 - val_loss: 0.0250 - val_accuracy: 0.9983\n",
      "Epoch 63/70\n",
      "4/4 [==============================] - 1s 192ms/step - loss: 1.0107e-06 - accuracy: 1.0000 - val_loss: 0.0183 - val_accuracy: 0.9992\n",
      "Epoch 64/70\n",
      "4/4 [==============================] - 1s 194ms/step - loss: 1.1500e-06 - accuracy: 1.0000 - val_loss: 0.0132 - val_accuracy: 0.9992\n",
      "Epoch 65/70\n",
      "4/4 [==============================] - 1s 192ms/step - loss: 1.0870e-05 - accuracy: 1.0000 - val_loss: 0.0096 - val_accuracy: 0.9992\n",
      "Epoch 66/70\n",
      "4/4 [==============================] - 1s 195ms/step - loss: 8.2152e-07 - accuracy: 1.0000 - val_loss: 0.0067 - val_accuracy: 0.9992\n",
      "Epoch 67/70\n",
      "4/4 [==============================] - 1s 193ms/step - loss: 7.7812e-07 - accuracy: 1.0000 - val_loss: 0.0041 - val_accuracy: 0.9992\n",
      "Epoch 68/70\n",
      "4/4 [==============================] - 1s 193ms/step - loss: 5.4476e-07 - accuracy: 1.0000 - val_loss: 0.0020 - val_accuracy: 0.9992\n",
      "Epoch 69/70\n",
      "4/4 [==============================] - 1s 192ms/step - loss: 1.4617e-06 - accuracy: 1.0000 - val_loss: 6.2886e-04 - val_accuracy: 0.9992\n",
      "Epoch 70/70\n",
      "4/4 [==============================] - 1s 196ms/step - loss: 2.5930e-05 - accuracy: 1.0000 - val_loss: 5.4905e-04 - val_accuracy: 1.0000\n"
     ]
    }
   ],
   "source": [
    "model = Sequential()\n",
    "model.add(BatchNormalization(input_shape=(10, 128)))\n",
    "#양방향 LSTM\n",
    "model.add(Bidirectional(LSTM(128, activation='relu',recurrent_dropout=0.1,return_sequences=True)))\n",
    "model.add(Bidirectional(LSTM(128, activation='relu',recurrent_dropout=0.1,return_sequences=True)))\n",
    "model.add(Bidirectional(LSTM(128, activation='relu',recurrent_dropout=0.1,return_sequences=False)))\n",
    "model.add(Dense(1, activation='sigmoid'))\n",
    "model.compile(loss='binary_crossentropy', optimizer='adam', metrics=['accuracy'])\n",
    "model.summary()\n",
    "history = model.fit(x_train, y_train,batch_size=300, epochs=70, validation_data=(x_val, y_val))\n"
   ]
  },
  {
   "cell_type": "code",
   "execution_count": 14,
   "metadata": {
    "scrolled": true
   },
   "outputs": [
    {
     "name": "stdout",
     "output_type": "stream",
     "text": [
      "WARNING:tensorflow:From <ipython-input-14-4626eb374fe1>:1: Sequential.predict_classes (from tensorflow.python.keras.engine.sequential) is deprecated and will be removed after 2021-01-01.\n",
      "Instructions for updating:\n",
      "Please use instead:* `np.argmax(model.predict(x), axis=-1)`,   if your model does multi-class classification   (e.g. if it uses a `softmax` last-layer activation).* `(model.predict(x) > 0.5).astype(\"int32\")`,   if your model does binary classification   (e.g. if it uses a `sigmoid` last-layer activation).\n",
      "38/38 [==============================] - 1s 14ms/step\n"
     ]
    }
   ],
   "source": [
    "y_test = model.predict_classes(x_test, verbose=1)\n",
    "submission = pd.DataFrame({'vid_id': test['vid_id'].values, 'is_turkey': list(y_test.flatten())})"
   ]
  },
  {
   "cell_type": "code",
   "execution_count": 15,
   "metadata": {},
   "outputs": [],
   "source": [
    "submission.to_csv(\"turkey_submission.csv\", index=False)"
   ]
  },
  {
   "cell_type": "code",
   "execution_count": null,
   "metadata": {},
   "outputs": [],
   "source": []
  }
 ],
 "metadata": {
  "kernelspec": {
   "display_name": "Python 3",
   "language": "python",
   "name": "python3"
  },
  "language_info": {
   "codemirror_mode": {
    "name": "ipython",
    "version": 3
   },
   "file_extension": ".py",
   "mimetype": "text/x-python",
   "name": "python",
   "nbconvert_exporter": "python",
   "pygments_lexer": "ipython3",
   "version": "3.7.7"
  }
 },
 "nbformat": 4,
 "nbformat_minor": 4
}
